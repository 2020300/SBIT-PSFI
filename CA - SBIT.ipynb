{
 "cells": [
  {
   "cell_type": "markdown",
   "id": "9d410455",
   "metadata": {},
   "source": [
    "### Python code used to analyse dataset\n",
    "\n",
    "#### https://www.kaggle.com/code/christinampoid/europe-habits"
   ]
  },
  {
   "cell_type": "code",
   "execution_count": 18,
   "id": "dca8e0e9",
   "metadata": {},
   "outputs": [],
   "source": [
    "import pandas as pd\n",
    "import matplotlib.pyplot as plt"
   ]
  },
  {
   "cell_type": "code",
   "execution_count": 21,
   "id": "6eedb029",
   "metadata": {},
   "outputs": [],
   "source": [
    "foodhabits = pd.read_csv('C:/Users/henri/Documents/GitHub/SBIT-PSFI/dataset modified.csv', delimiter=';')"
   ]
  },
  {
   "cell_type": "code",
   "execution_count": 22,
   "id": "f46462dc",
   "metadata": {},
   "outputs": [
    {
     "data": {
      "text/html": [
       "<div>\n",
       "<style scoped>\n",
       "    .dataframe tbody tr th:only-of-type {\n",
       "        vertical-align: middle;\n",
       "    }\n",
       "\n",
       "    .dataframe tbody tr th {\n",
       "        vertical-align: top;\n",
       "    }\n",
       "\n",
       "    .dataframe thead th {\n",
       "        text-align: right;\n",
       "    }\n",
       "</style>\n",
       "<table border=\"1\" class=\"dataframe\">\n",
       "  <thead>\n",
       "    <tr style=\"text-align: right;\">\n",
       "      <th></th>\n",
       "      <th>Code</th>\n",
       "    </tr>\n",
       "  </thead>\n",
       "  <tbody>\n",
       "    <tr>\n",
       "      <th>count</th>\n",
       "      <td>4.582000e+03</td>\n",
       "    </tr>\n",
       "    <tr>\n",
       "      <th>mean</th>\n",
       "      <td>3.060352e+12</td>\n",
       "    </tr>\n",
       "    <tr>\n",
       "      <th>std</th>\n",
       "      <td>3.714687e+12</td>\n",
       "    </tr>\n",
       "    <tr>\n",
       "      <th>min</th>\n",
       "      <td>7.580000e+02</td>\n",
       "    </tr>\n",
       "    <tr>\n",
       "      <th>25%</th>\n",
       "      <td>3.406210e+10</td>\n",
       "    </tr>\n",
       "    <tr>\n",
       "      <th>50%</th>\n",
       "      <td>7.254391e+11</td>\n",
       "    </tr>\n",
       "    <tr>\n",
       "      <th>75%</th>\n",
       "      <td>8.410100e+12</td>\n",
       "    </tr>\n",
       "    <tr>\n",
       "      <th>max</th>\n",
       "      <td>9.876568e+12</td>\n",
       "    </tr>\n",
       "  </tbody>\n",
       "</table>\n",
       "</div>"
      ],
      "text/plain": [
       "               Code\n",
       "count  4.582000e+03\n",
       "mean   3.060352e+12\n",
       "std    3.714687e+12\n",
       "min    7.580000e+02\n",
       "25%    3.406210e+10\n",
       "50%    7.254391e+11\n",
       "75%    8.410100e+12\n",
       "max    9.876568e+12"
      ]
     },
     "execution_count": 22,
     "metadata": {},
     "output_type": "execute_result"
    }
   ],
   "source": [
    "foodhabits.describe()"
   ]
  },
  {
   "cell_type": "code",
   "execution_count": 23,
   "id": "6eb8aac1",
   "metadata": {},
   "outputs": [
    {
     "name": "stdout",
     "output_type": "stream",
     "text": [
      "<class 'pandas.core.frame.DataFrame'>\n",
      "RangeIndex: 4582 entries, 0 to 4581\n",
      "Data columns (total 6 columns):\n",
      " #   Column        Non-Null Count  Dtype \n",
      "---  ------        --------------  ----- \n",
      " 0   Code          4582 non-null   int64 \n",
      " 1   product_name  4582 non-null   object\n",
      " 2   Category      1611 non-null   object\n",
      " 3   cities_tags   48 non-null     object\n",
      " 4   countries     4582 non-null   object\n",
      " 5   countries_en  4582 non-null   object\n",
      "dtypes: int64(1), object(5)\n",
      "memory usage: 214.9+ KB\n"
     ]
    }
   ],
   "source": [
    "foodhabits.info()"
   ]
  },
  {
   "cell_type": "code",
   "execution_count": 24,
   "id": "89147aa5",
   "metadata": {},
   "outputs": [
    {
     "data": {
      "text/html": [
       "<div>\n",
       "<style scoped>\n",
       "    .dataframe tbody tr th:only-of-type {\n",
       "        vertical-align: middle;\n",
       "    }\n",
       "\n",
       "    .dataframe tbody tr th {\n",
       "        vertical-align: top;\n",
       "    }\n",
       "\n",
       "    .dataframe thead th {\n",
       "        text-align: right;\n",
       "    }\n",
       "</style>\n",
       "<table border=\"1\" class=\"dataframe\">\n",
       "  <thead>\n",
       "    <tr style=\"text-align: right;\">\n",
       "      <th></th>\n",
       "      <th>Code</th>\n",
       "      <th>product_name</th>\n",
       "      <th>Category</th>\n",
       "      <th>cities_tags</th>\n",
       "      <th>countries</th>\n",
       "      <th>countries_en</th>\n",
       "    </tr>\n",
       "  </thead>\n",
       "  <tbody>\n",
       "    <tr>\n",
       "      <th>4577</th>\n",
       "      <td>20270353</td>\n",
       "      <td>Aprikose</td>\n",
       "      <td>Pétales de riz et de blé avec morceaux de frui...</td>\n",
       "      <td>NaN</td>\n",
       "      <td>United Kingdom</td>\n",
       "      <td>UK</td>\n",
       "    </tr>\n",
       "    <tr>\n",
       "      <th>4578</th>\n",
       "      <td>8901552015363</td>\n",
       "      <td>Alpenliebe just jelly-strawberry flavour</td>\n",
       "      <td>Bière Blanche</td>\n",
       "      <td>NaN</td>\n",
       "      <td>United Kingdom</td>\n",
       "      <td>UK</td>\n",
       "    </tr>\n",
       "    <tr>\n",
       "      <th>4579</th>\n",
       "      <td>8410740904940</td>\n",
       "      <td>Tableta de chocolate negro con naranja 70% cacao</td>\n",
       "      <td>NaN</td>\n",
       "      <td>NaN</td>\n",
       "      <td>United Kingdom</td>\n",
       "      <td>UK</td>\n",
       "    </tr>\n",
       "    <tr>\n",
       "      <th>4580</th>\n",
       "      <td>8710398164025</td>\n",
       "      <td>Pickles Flavour</td>\n",
       "      <td>NaN</td>\n",
       "      <td>NaN</td>\n",
       "      <td>United Kingdom</td>\n",
       "      <td>UK</td>\n",
       "    </tr>\n",
       "    <tr>\n",
       "      <th>4581</th>\n",
       "      <td>77900502095</td>\n",
       "      <td>Tapatio Salsa Picante</td>\n",
       "      <td>Red Curry Paste</td>\n",
       "      <td>NaN</td>\n",
       "      <td>United Kingdom</td>\n",
       "      <td>UK</td>\n",
       "    </tr>\n",
       "  </tbody>\n",
       "</table>\n",
       "</div>"
      ],
      "text/plain": [
       "               Code                                      product_name  \\\n",
       "4577       20270353                                          Aprikose   \n",
       "4578  8901552015363          Alpenliebe just jelly-strawberry flavour   \n",
       "4579  8410740904940  Tableta de chocolate negro con naranja 70% cacao   \n",
       "4580  8710398164025                                   Pickles Flavour   \n",
       "4581    77900502095                             Tapatio Salsa Picante   \n",
       "\n",
       "                                               Category cities_tags  \\\n",
       "4577  Pétales de riz et de blé avec morceaux de frui...         NaN   \n",
       "4578                                      Bière Blanche         NaN   \n",
       "4579                                                NaN         NaN   \n",
       "4580                                                NaN         NaN   \n",
       "4581                                    Red Curry Paste         NaN   \n",
       "\n",
       "           countries countries_en  \n",
       "4577  United Kingdom           UK  \n",
       "4578  United Kingdom           UK  \n",
       "4579  United Kingdom           UK  \n",
       "4580  United Kingdom           UK  \n",
       "4581  United Kingdom           UK  "
      ]
     },
     "execution_count": 24,
     "metadata": {},
     "output_type": "execute_result"
    }
   ],
   "source": [
    "foodhabits.tail(5)"
   ]
  },
  {
   "cell_type": "code",
   "execution_count": 17,
   "id": "8a644dcf",
   "metadata": {},
   "outputs": [
    {
     "data": {
      "text/html": [
       "<div>\n",
       "<style scoped>\n",
       "    .dataframe tbody tr th:only-of-type {\n",
       "        vertical-align: middle;\n",
       "    }\n",
       "\n",
       "    .dataframe tbody tr th {\n",
       "        vertical-align: top;\n",
       "    }\n",
       "\n",
       "    .dataframe thead th {\n",
       "        text-align: right;\n",
       "    }\n",
       "</style>\n",
       "<table border=\"1\" class=\"dataframe\">\n",
       "  <thead>\n",
       "    <tr style=\"text-align: right;\">\n",
       "      <th></th>\n",
       "      <th>Code;product_name;Category;cities_tags;countries;countries_en</th>\n",
       "    </tr>\n",
       "  </thead>\n",
       "  <tbody>\n",
       "    <tr>\n",
       "      <th>0</th>\n",
       "      <td>2093189011873;Faluche x2;Dessert;;United State...</td>\n",
       "    </tr>\n",
       "    <tr>\n",
       "      <th>1</th>\n",
       "      <td>41220837908;salt free rice cakes;Confiserie;;U...</td>\n",
       "    </tr>\n",
       "    <tr>\n",
       "      <th>2</th>\n",
       "      <td>168526;panna cotta dessert mix;Smoothie;;Unite...</td>\n",
       "    </tr>\n",
       "    <tr>\n",
       "      <th>3</th>\n",
       "      <td>2000000039416;caprice des dieux;;;United State...</td>\n",
       "    </tr>\n",
       "    <tr>\n",
       "      <th>4</th>\n",
       "      <td>50000029730;Chicken Cooking Stock;Chicken;;Uni...</td>\n",
       "    </tr>\n",
       "    <tr>\n",
       "      <th>...</th>\n",
       "      <td>...</td>\n",
       "    </tr>\n",
       "    <tr>\n",
       "      <th>95</th>\n",
       "      <td>2110301003803;Le Gruyère doux;Beer;;United Sta...</td>\n",
       "    </tr>\n",
       "    <tr>\n",
       "      <th>96</th>\n",
       "      <td>4006398;M&amp;M's Milk Chocolate Candies;Beer;;Uni...</td>\n",
       "    </tr>\n",
       "    <tr>\n",
       "      <th>97</th>\n",
       "      <td>620514006734;Mighty miso instant organic soup ...</td>\n",
       "    </tr>\n",
       "    <tr>\n",
       "      <th>98</th>\n",
       "      <td>3201879;Mixed Fruit Jelly;Beer;;United States ...</td>\n",
       "    </tr>\n",
       "    <tr>\n",
       "      <th>99</th>\n",
       "      <td>811639040028;Monterey Jack;Beer;;United States...</td>\n",
       "    </tr>\n",
       "  </tbody>\n",
       "</table>\n",
       "<p>100 rows × 1 columns</p>\n",
       "</div>"
      ],
      "text/plain": [
       "   Code;product_name;Category;cities_tags;countries;countries_en\n",
       "0   2093189011873;Faluche x2;Dessert;;United State...           \n",
       "1   41220837908;salt free rice cakes;Confiserie;;U...           \n",
       "2   168526;panna cotta dessert mix;Smoothie;;Unite...           \n",
       "3   2000000039416;caprice des dieux;;;United State...           \n",
       "4   50000029730;Chicken Cooking Stock;Chicken;;Uni...           \n",
       "..                                                ...           \n",
       "95  2110301003803;Le Gruyère doux;Beer;;United Sta...           \n",
       "96  4006398;M&M's Milk Chocolate Candies;Beer;;Uni...           \n",
       "97  620514006734;Mighty miso instant organic soup ...           \n",
       "98  3201879;Mixed Fruit Jelly;Beer;;United States ...           \n",
       "99  811639040028;Monterey Jack;Beer;;United States...           \n",
       "\n",
       "[100 rows x 1 columns]"
      ]
     },
     "execution_count": 17,
     "metadata": {},
     "output_type": "execute_result"
    }
   ],
   "source": [
    "foodhabits.head(100)"
   ]
  },
  {
   "cell_type": "code",
   "execution_count": 27,
   "id": "5c56ebbd",
   "metadata": {},
   "outputs": [
    {
     "data": {
      "image/png": "[encoded data removed]",
      "text/plain": [
       "<Figure size 432x288 with 1 Axes>"
      ]
     },
     "metadata": {
      "needs_background": "light"
     },
     "output_type": "display_data"
    }
   ],
   "source": [
    "# Counting the number of Beer products in USA and UK\n",
    "beer_count_usa = foodhabits[(foodhabits['Category'] == 'Beer') & (foodhabits['countries'] == 'USA')].shape[0]\n",
    "\n",
    "\n",
    "# Plotting\n",
    "plt.bar(['USA', 'UK'], [beer_count_usa], color=['blue', 'red'])\n",
    "plt.xlabel('Countries')\n",
    "plt.ylabel('Number of Beer Products')\n",
    "plt.title('Distribution of Beer Products in USA and UK')\n",
    "plt.tight_layout()\n",
    "\n",
    "# Show plot\n",
    "plt.show()"
   ]
  },
  {
   "cell_type": "code",
   "execution_count": null,
   "id": "13e90934",
   "metadata": {},
   "outputs": [],
   "source": []
  }
 ],
 "metadata": {
  "kernelspec": {
   "display_name": "Python 3 (ipykernel)",
   "language": "python",
   "name": "python3"
  },
  "language_info": {
   "codemirror_mode": {
    "name": "ipython",
    "version": 3
   },
   "file_extension": ".py",
   "mimetype": "text/x-python",
   "name": "python",
   "nbconvert_exporter": "python",
   "pygments_lexer": "ipython3",
   "version": "3.9.12"
  }
 },
 "nbformat": 4,
 "nbformat_minor": 5
}
